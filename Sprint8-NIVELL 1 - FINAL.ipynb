{
 "cells": [
  {
   "cell_type": "markdown",
   "metadata": {},
   "source": [
    "Realitza la connexió en Python amb el MySQL Workbench per a carregar tota la informació que tens en les taules.\n",
    "\n",
    "Realitzaràs una visualització per a cada exercici. Comenta el que et crida l'atenció de graficar aquesta variable, justifica l'elecció del gràfic i interpreta els resultats en funció de les teves dades."
   ]
  },
  {
   "cell_type": "markdown",
   "metadata": {},
   "source": [
    "CONEXIÓN CON MYSQL WORKBENCH"
   ]
  },
  {
   "cell_type": "code",
   "execution_count": null,
   "metadata": {},
   "outputs": [],
   "source": [
    "# pip install mysql-connector-python - Realizado desde Command\n",
    "#\n",
    "\n",
    "import mysql.connector\n",
    "from mysql.connector import Error\n",
    "\n",
    "try:\n",
    "    connection = mysql.connector.connect(host='localhost',\n",
    "                                         database='script4_transactions',\n",
    "                                         user='root',\n",
    "                                         password='Calabozo1605*')\n",
    "    if connection.is_connected():\n",
    "        db_Info = connection.get_server_info()\n",
    "        print(\"Connected to MySQL Server version \", db_Info)\n",
    "        cursor = connection.cursor()\n",
    "        cursor.execute(\"select database();\")\n",
    "        record = cursor.fetchone()\n",
    "        print(\"You're connected to database: \", record)\n",
    "\n",
    "except Error as e:\n",
    "    print(\"Error while connecting to MySQL\", e)\n",
    "\n",
    "#Cerrar la Base de Datos\n",
    "finally:\n",
    "    if connection.is_connected():\n",
    "        cursor.close()\n",
    "        connection.close()\n",
    "        print(\"MySQL connection is closed\")"
   ]
  },
  {
   "cell_type": "markdown",
   "metadata": {},
   "source": [
    "NIVEL 1 - EXERCICI 1"
   ]
  },
  {
   "cell_type": "code",
   "execution_count": null,
   "metadata": {},
   "outputs": [],
   "source": [
    "import mysql.connector\n",
    "import pandas as pd\n",
    "import matplotlib.pyplot as plt\n",
    "import seaborn as sns\n",
    "\n",
    "def crea_conexion_mysql():\n",
    "    try:\n",
    "        connection = mysql.connector.connect(host='localhost',\n",
    "                                            database='script4_transactions',\n",
    "                                            user='root',\n",
    "                                            password='Calabozo1605*')\n",
    "        return connection\n",
    "    except mysql.connector.Error as e:\n",
    "        print(\"Error reading data from MySQL table\", e)\n",
    "        return None\n",
    "    \n",
    "def obtener_tablas(connection):\n",
    "#Obtiene la lista de tablas de la base de datos.\n",
    "    sql_select_Query = \"show tables\"\n",
    "    cursor = connection.cursor(dictionary=True, buffered=True)\n",
    "    cursor.execute(sql_select_Query)\n",
    "       \n",
    "    # Se almacenan los valores en una lista\n",
    "    tabla_nombre_tablas = []\n",
    "    for fila in cursor.fetchall():\n",
    "        tabla_nombre_tablas.append(fila['Tables_in_script4_transactions'])\n",
    "    cursor.close()\n",
    "    print(tabla_nombre_tablas)\n",
    "    return tabla_nombre_tablas\n",
    "\n",
    "def cargar_datos_en_diccionario(connection, tabla_nombre_tablas):\n",
    "    data_dict_bd = {}\n",
    "\n",
    "    for tabla in tabla_nombre_tablas:\n",
    "        sql_select_Query1 = f\"select * from {tabla}\"\n",
    "        df = pd.read_sql(sql_select_Query1,connection)\n",
    "        data_dict_bd[tabla] = df\n",
    "\n",
    "    return data_dict_bd\n",
    "\n",
    "# ------------- PROGRAMA PRINCIPAL ------------------\n",
    "\n",
    "conexion = crea_conexion_mysql()\n",
    "if conexion:\n",
    "    tablas = obtener_tablas(conexion)                           # Se obtiene los nombfres de las tablas a ser caragadas\n",
    "    data_dict = cargar_datos_en_diccionario(conexion, tablas)   # Se cargan los datos en cada tabla\n",
    "\n",
    "print(data_dict)\n",
    "\n",
    "# Se hgace una copia de los dataframe para trabajarlos posteriormente.\n",
    "datosdf_companies = pd.DataFrame(data_dict[\"companies\"])\n",
    "datosdf_transactions = pd.DataFrame(data_dict[\"transactions\"])\n",
    "datosdf_detalle_transacciones = pd.DataFrame(data_dict[\"detalle_transacciones\"])\n",
    "datosdf_products = pd.DataFrame(data_dict[\"products\"]) \n",
    "datosdf_users = pd.DataFrame(data_dict[\"users\"]) \n",
    "datosdf_credit_cards = pd.DataFrame(data_dict[\"credit_cards\"])\n",
    "datosdf_cestado_tarjetas = pd.DataFrame(data_dict[\"estado_tarjetas\"])\n",
    "\n",
    "# ------------- FIN PROGRAMA PRINCIPAL ------------------"
   ]
  },
  {
   "cell_type": "markdown",
   "metadata": {},
   "source": [
    "VISUALIZAR UNA VARIABLE NUMERICA"
   ]
  },
  {
   "cell_type": "code",
   "execution_count": null,
   "metadata": {},
   "outputs": [],
   "source": [
    "#============== EJERCICIO 1 ====================  \n",
    "datosdf_products = pd.DataFrame(data_dict[\"products\"])   \n",
    "datosdf_products[\"price\"] = datosdf_products[\"price\"].str.replace(\"$\", \"\", regex=False).astype('float64')\n",
    "nuevos_datos = datosdf_products[\"price\"] \n",
    "nuevos_datos.plot.box(patch_artist = True, showmeans = True, showfliers = True)\n",
    "#nuevos_datos.plot.hist(bins= 20)  Se puede representar también con un histograma\n",
    "plt.title(\"Visualizar UNA Variable Numérica\")\n",
    "print(datosdf_products[\"price\"].describe())"
   ]
  },
  {
   "cell_type": "markdown",
   "metadata": {},
   "source": [
    "DOS VARFIABLES NUMÉRICAS"
   ]
  },
  {
   "cell_type": "code",
   "execution_count": null,
   "metadata": {},
   "outputs": [],
   "source": [
    "#============== EJERCICIO 2  - Dos Numéricas ==================== \n",
    "import seaborn as sns\n",
    "\n",
    "datosdf_products = pd.DataFrame(data_dict[\"products\"])   \n",
    "datosdf_products[\"price\"] = datosdf_products[\"price\"].str.replace(\"$\", \"\", regex=False).astype('float64')\n",
    "\n",
    "nuevos_datos = datosdf_products[\"price\"] \n",
    "\n",
    "sns.lmplot(\n",
    "    data=datosdf_products,\n",
    "    x=\"weight\", y=\"price\"\n",
    ")\n",
    "plt.title(\"Dos Variables numéricas Weight y Price\")\n",
    "plt.show()\n"
   ]
  },
  {
   "cell_type": "code",
   "execution_count": null,
   "metadata": {},
   "outputs": [],
   "source": [
    "#Visualizar dos variables\n",
    "datosdf = pd.DataFrame(data_dict[\"companies\"])  \n",
    "#datosdf.groupby([\"country\"])[\"company_id\"].count().plot.pie() \n",
    "datosdf.groupby([\"country\"])[\"company_id\"].count().plot.bar()\n",
    "plt.title(\"Cantidad de empresas por país\")\n",
    "plt.xlabel(\"País\")\n",
    "plt.ylabel(\"Cantidad de Empresas\")"
   ]
  },
  {
   "cell_type": "markdown",
   "metadata": {},
   "source": [
    "VISUALIZAR UNA VARIABLE CATEGÓRICA"
   ]
  },
  {
   "cell_type": "code",
   "execution_count": null,
   "metadata": {},
   "outputs": [],
   "source": [
    "#============== EJERCICIO 3 ====================  \n",
    "#Visualización de UNA variable categórica\n",
    "datosdf = pd.DataFrame(data_dict[\"transactions\"])   \n",
    "datosdf[\"declined\"].value_counts().plot.bar()\n",
    "plt.title(\"Cantidad de Transacciones declinadas y aceptadas\")\n",
    "plt.xlabel(\"Declinadas (1) y Aceptadas (0)\")\n",
    "plt.ylabel(\"Cantidad\")"
   ]
  },
  {
   "cell_type": "markdown",
   "metadata": {},
   "source": [
    "VISUALIZAR UNA VARIABLE CATEGÓRICA Y UNA NUNERICA"
   ]
  },
  {
   "cell_type": "code",
   "execution_count": null,
   "metadata": {},
   "outputs": [],
   "source": [
    "#============== EJERCICIO 4 OPCION 1 ==================== \n",
    "datosdf = pd.DataFrame(data_dict[\"companies\"])  \n",
    "#datosdf.groupby([\"country\"])[\"company_id\"].count().plot.pie() \n",
    "datosdf.groupby([\"country\"])[\"company_id\"].count().plot.bar()\n",
    "plt.title(\"Cantidad de empresas por país\")\n",
    "plt.xlabel(\"País\")\n",
    "plt.ylabel(\"Cantidad de Empresas\")"
   ]
  },
  {
   "cell_type": "code",
   "execution_count": null,
   "metadata": {},
   "outputs": [],
   "source": [
    "#============== EJERCICIO 4 OPCION 2 ==================== \n",
    "datosdf = pd.DataFrame(data_dict[\"transactions\"])   \n",
    "datosdf.groupby([\"declined\"])[[\"amount\"]].sum().plot.bar()\n",
    "plt.title(\"Monto en transacciones declinadas y aceptadas\")\n",
    "plt.xlabel(\"Declinadas (1) y Aceptadas (0)\")\n",
    "plt.ylabel(\"Monto\")"
   ]
  },
  {
   "cell_type": "code",
   "execution_count": null,
   "metadata": {},
   "outputs": [],
   "source": [
    "#============== EJERCICIO 4 OPCION 3 ==================== \n",
    "datosdf = pd.DataFrame(data_dict[\"detalle_transacciones\"])   \n",
    "df = datosdf.groupby([\"producto_id\"])[\"transaccion_id\"].count()\n",
    "df_mayores = df.nlargest(5)\n",
    "df_mayores.plot.bar()\n",
    "plt.title(\"Visualizar DOS Variables (Categórica y Numerica)\")\n",
    "plt.xlabel(\"Producto ID\")\n",
    "plt.ylabel(\"Cantidad de Transacciones\")"
   ]
  },
  {
   "cell_type": "code",
   "execution_count": null,
   "metadata": {},
   "outputs": [],
   "source": [
    "#============== EJERCICIO 4 - OPCION 4 PIE ====================  \n",
    "#Visualizar dos variables\n",
    "datosdf = pd.DataFrame(data_dict[\"transactions\"])   \n",
    "datosdf.groupby([\"declined\"])[[\"amount\"]].sum().plot.pie(subplots=True, startangle = 90)\n",
    "plt.title(\"Monto de transacciones declinadas vs aceptadas\")"
   ]
  },
  {
   "cell_type": "markdown",
   "metadata": {},
   "source": [
    "VISUALIZAR DOS VARIABLES CATEGÓRICAS\n",
    "\n"
   ]
  },
  {
   "cell_type": "code",
   "execution_count": null,
   "metadata": {},
   "outputs": [],
   "source": [
    "#============== EJERCICIO 5  - Dos Categóricas ==================== \n",
    "\n",
    "df1 = pd.DataFrame(data_dict[\"companies\"]) \n",
    "df2 = pd.DataFrame(data_dict[\"transactions\"]) \n",
    "\n",
    "df_join = pd.merge(df1, df2, left_on='company_id', right_on='business_id', how='inner')\n",
    "pd.crosstab(df_join[\"country\"], df_join[\"declined\"]).plot.bar()\n",
    "plt.title(\"Transacciones declinadas y aceptadas por país\")\n"
   ]
  },
  {
   "cell_type": "markdown",
   "metadata": {},
   "source": [
    "  TRES VARIABLES\n",
    "\n",
    "En el gráfico resultante aparece una recta de regresión por cada grupo de Productos. Esto se debe al uso del parámetro hue=product_name.\n",
    "\n",
    "Las otras visualizaciones se estudia el JOIN y el MERGE. El método join() es similar a la función merge() en términos de parámetros y operaciones. Pero la mayor diferencia entre ambos es que join combina DataFrames basados ​​en índices, mientras que merge combina con índices o columnas . De manera predeterminada, el método join() realiza una unión izquierda, mientras que merge realiza una unión interna.\n"
   ]
  },
  {
   "cell_type": "code",
   "execution_count": null,
   "metadata": {},
   "outputs": [],
   "source": [
    "#============== EJERCICIO 6  - Tres Variables - Product_name - Price - Weight ==================== \n",
    "\n",
    "import seaborn as sns\n",
    "\n",
    "datosdf_products = pd.DataFrame(data_dict[\"products\"])   \n",
    "datosdf_products[\"price\"] = datosdf_products[\"price\"].str.replace(\"$\", \"\", regex=False).astype('float64')\n",
    "\n",
    "nuevos_datos = datosdf_products\n",
    "\n",
    "df_mayores = nuevos_datos.nlargest(30,\"price\")\n",
    "\n",
    "sns.lmplot(\n",
    "    data=df_mayores,\n",
    "    x=\"weight\", y=\"price\", hue=\"product_name\"\n",
    ")\n",
    "plt.title(\"Tres numéricas Weight-Price-Product_name\")"
   ]
  },
  {
   "cell_type": "code",
   "execution_count": null,
   "metadata": {},
   "outputs": [],
   "source": [
    "#============== EJERCICIO 6 - MERGE ==================== \n",
    "\n",
    "df1 = pd.DataFrame(data_dict[\"companies\"]) \n",
    "df2 = pd.DataFrame(data_dict[\"transactions\"]) \n",
    "\n",
    "#Se hace el merge de las tablas Companies y Transacciones\n",
    "df_merge = pd.merge(df1, df2, left_on='company_id', right_on='business_id', how='inner')\n",
    "\n",
    "# Se calcula el total de transacciones mediante el size(). \n",
    "# Se agrega reset_index para que el resultado sea un Dataframe en lugar de una serie\n",
    "df_totales = df_merge.groupby([\"country\", \"company_id\"]).size().reset_index(name=\"total_transactions\")\n",
    "\n",
    "# El método pivot() convierte el DataFrame en una tabla donde cada fila se identifica con el country y cada columna será la empresa\n",
    "# los valores en la interseccón indican la camtidad de transacciones por país y empresa\n",
    "df_pivot = df_totales.pivot(index=\"country\", columns=\"company_id\", values=\"total_transactions\")\n",
    "\n",
    "# Se grafica usando barras apiladas\n",
    "df_pivot.plot(kind=\"bar\", stacked=True, figsize=(12, 6), colormap=\"viridis\")\n",
    "\n",
    "plt.xlabel(\"País\")\n",
    "plt.ylabel(\"Total de Transacciones\")\n",
    "plt.title(\"Total de Transacciones por País y Empresa\")\n",
    "plt.legend(title=\"Empresa\", bbox_to_anchor=(1, 1))\n",
    "plt.show()"
   ]
  },
  {
   "cell_type": "code",
   "execution_count": null,
   "metadata": {},
   "outputs": [],
   "source": [
    "#============== EJERCICIO 6 - JOIN ==================== \n",
    "\n",
    "df1 = pd.DataFrame(data_dict[\"companies\"]) \n",
    "df2 = pd.DataFrame(data_dict[\"transactions\"]) \n",
    "\n",
    "df1.join(df2)\n",
    "\n",
    "df_join[\"Size\"]  = df_join.groupby([\"country\", \"company_id\"])[\"id\"].transform(\"count\") * 100\n",
    "\n",
    "df_final = df_join.loc[(df_join['Size']>=100) & (df_join['company_name'].str.startswith('A'))]\n",
    "\n",
    "top_countries = df_final[\"country\"].value_counts().head(5).index\n",
    "df_final = df_final[df_final[\"country\"].isin(top_countries)]\n",
    "        \n",
    "visualización = df_final.plot.scatter(x=\"country\", y=\"company_id\", s=df_final[\"Size\"], c=df_final[\"Size\"], colormap=\"viridis\")\n",
    "plt.title(\"Transacciones por Pais y Empresa\")\n",
    "\n"
   ]
  },
  {
   "cell_type": "markdown",
   "metadata": {},
   "source": [
    "GRAFICAR UN PAIRPLOT"
   ]
  },
  {
   "cell_type": "code",
   "execution_count": 96,
   "metadata": {},
   "outputs": [
    {
     "data": {
      "image/png": "[encoded data removed]",
      "text/plain": [
       "<Figure size 500x500 with 6 Axes>"
      ]
     },
     "metadata": {},
     "output_type": "display_data"
    }
   ],
   "source": [
    "#============== EJERCICIO 7 ==================== \n",
    "\n",
    "import seaborn as sns\n",
    "import matplotlib.pyplot as plt\n",
    "\n",
    "df = pd.DataFrame(data_dict[\"products\"])\n",
    "df[\"price\"] = df[\"price\"].str.replace(\"$\", \"\", regex=False).astype('float64')\n",
    "# Crear el Pairplot\n",
    "sns.pairplot(df)\n",
    "\n",
    "# Mostrar la gráfica\n",
    "plt.show()"
   ]
  }
 ],
 "metadata": {
  "kernelspec": {
   "display_name": "Python 3",
   "language": "python",
   "name": "python3"
  },
  "language_info": {
   "codemirror_mode": {
    "name": "ipython",
    "version": 3
   },
   "file_extension": ".py",
   "mimetype": "text/x-python",
   "name": "python",
   "nbconvert_exporter": "python",
   "pygments_lexer": "ipython3",
   "version": "3.13.0"
  }
 },
 "nbformat": 4,
 "nbformat_minor": 2
}
